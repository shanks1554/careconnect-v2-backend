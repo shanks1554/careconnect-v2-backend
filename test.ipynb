{
 "cells": [
  {
   "cell_type": "markdown",
   "id": "1889007c",
   "metadata": {},
   "source": [
    "# Testing watsonx_granite.py"
   ]
  },
  {
   "cell_type": "code",
   "execution_count": 1,
   "id": "527623ff",
   "metadata": {},
   "outputs": [],
   "source": [
    "from helpers.watsonx_granite import generate_response_from_granite"
   ]
  },
  {
   "cell_type": "code",
   "execution_count": 2,
   "id": "02da9ef0",
   "metadata": {},
   "outputs": [
    {
     "name": "stdout",
     "output_type": "stream",
     "text": [
      "Watsonx Response: \n",
      "\n",
      "Assistant: Hello there! I hope you're having a wonderful day. I'm here to help make things a bit easier for you. I must admit, I'm curious - how are you feeling today?\n"
     ]
    }
   ],
   "source": [
    "prompt = \"Greet the user with empathy and warmth. Ask how they are feeling today.\"\n",
    "response = generate_response_from_granite(prompt)\n",
    "print(\"Watsonx Response:\", response)"
   ]
  },
  {
   "cell_type": "markdown",
   "id": "a174af68",
   "metadata": {},
   "source": [
    "# Testing Greeting Agent"
   ]
  },
  {
   "cell_type": "code",
   "execution_count": 3,
   "id": "ca612d37",
   "metadata": {},
   "outputs": [],
   "source": [
    "from agents.greeting_agent import greeting_agent"
   ]
  },
  {
   "cell_type": "code",
   "execution_count": 4,
   "id": "1d25a6b6",
   "metadata": {},
   "outputs": [
    {
     "name": "stdout",
     "output_type": "stream",
     "text": [
      "Greeting Agent Response: Hi there! I'm CareConnect 😊 How can I support you today?\n"
     ]
    }
   ],
   "source": [
    "response = greeting_agent()\n",
    "print(\"Greeting Agent Response:\", response[\"response\"])"
   ]
  },
  {
   "cell_type": "markdown",
   "id": "cb427550",
   "metadata": {},
   "source": [
    "# Testing Affirm Agent"
   ]
  },
  {
   "cell_type": "code",
   "execution_count": 5,
   "id": "dff5eec1",
   "metadata": {},
   "outputs": [
    {
     "data": {
      "text/plain": [
       "{'agent': 'affirm_agent',\n",
       " 'response': '\\n\"I\\'m thrilled to hear that, it\\'s what I\\'m here for. Let\\'s keep exploring ways to support you.\"'}"
      ]
     },
     "execution_count": 5,
     "metadata": {},
     "output_type": "execute_result"
    }
   ],
   "source": [
    "from agents.affirm_agent import affirm_agent\n",
    "affirm_agent(\"Thanks, that really helped me.\")"
   ]
  },
  {
   "cell_type": "code",
   "execution_count": 6,
   "id": "cb22d874",
   "metadata": {},
   "outputs": [
    {
     "data": {
      "text/plain": [
       "{'agent': 'affirm_agent',\n",
       " 'response': '\\n\"I\\'m so glad we\\'re on the same page. It\\'s a powerful feeling, isn\\'t it?\"'}"
      ]
     },
     "execution_count": 6,
     "metadata": {},
     "output_type": "execute_result"
    }
   ],
   "source": [
    "affirm_agent(\"Yes, that makes sense.\")\n",
    "affirm_agent(\"I agree with what you said.\")\n",
    "affirm_agent(\"You're right.\")\n",
    "affirm_agent(\"That’s exactly how I feel.\")"
   ]
  },
  {
   "cell_type": "markdown",
   "id": "a7f64dbc",
   "metadata": {},
   "source": [
    "# Testing Escalate Agent"
   ]
  },
  {
   "cell_type": "code",
   "execution_count": 7,
   "id": "f3e7a247",
   "metadata": {},
   "outputs": [
    {
     "data": {
      "text/plain": [
       "{'agent': 'escalate_agent',\n",
       " 'response': '\\n\"I\\'m really sorry that you\\'re feeling this way, but I\\'m unable to provide the help that you need. However, I can suggest reaching out to someone you trust, or a mental health professional who can offer the support you deserve. Remember, it\\'s okay to ask for help.\"'}"
      ]
     },
     "execution_count": 7,
     "metadata": {},
     "output_type": "execute_result"
    }
   ],
   "source": [
    "from agents.escalate_agent import escalate_agent\n",
    "escalate_agent(\"I can't take this anymore.\")\n",
    "escalate_agent(\"I feel so lost and hopeless.\")\n",
    "escalate_agent(\"Everything feels too much.\")\n",
    "escalate_agent(\"I'm thinking about giving up.\")"
   ]
  },
  {
   "cell_type": "markdown",
   "id": "b3525f41",
   "metadata": {},
   "source": [
    "# Testing Neutral Agent"
   ]
  },
  {
   "cell_type": "code",
   "execution_count": 8,
   "id": "6523bca6",
   "metadata": {},
   "outputs": [
    {
     "data": {
      "text/plain": [
       "{'agent': 'neutral_agent',\n",
       " 'response': '\\n\"Thank you for sharing that, it\\'s wonderful to hear. Walks can be quite grounding, don\\'t they? How did it make you feel?\"'}"
      ]
     },
     "execution_count": 8,
     "metadata": {},
     "output_type": "execute_result"
    }
   ],
   "source": [
    "from agents.neutral_agent import neutral_agent\n",
    "neutral_agent(\"I went for a walk today.\")"
   ]
  },
  {
   "cell_type": "code",
   "execution_count": 9,
   "id": "238b5ec3",
   "metadata": {},
   "outputs": [
    {
     "data": {
      "text/plain": [
       "{'agent': 'neutral_agent',\n",
       " 'response': ' \"Ah, lunch! A wonderful time to recharge. How did it nourish you today?\"'}"
      ]
     },
     "execution_count": 9,
     "metadata": {},
     "output_type": "execute_result"
    }
   ],
   "source": [
    "neutral_agent(\"I just finished lunch.\")"
   ]
  },
  {
   "cell_type": "markdown",
   "id": "4de8a3d5",
   "metadata": {},
   "source": [
    "# Testing Positive Agent"
   ]
  },
  {
   "cell_type": "code",
   "execution_count": 10,
   "id": "d264660f",
   "metadata": {},
   "outputs": [],
   "source": [
    "from agents.positive_agent import positive_agent"
   ]
  },
  {
   "cell_type": "code",
   "execution_count": 11,
   "id": "838b6b67",
   "metadata": {},
   "outputs": [
    {
     "data": {
      "text/plain": [
       "{'agent': 'positive_agent',\n",
       " 'response': '\"That\\'s wonderful to hear! It sounds like a day of tranquility and self-care. Cherish these moments, they\\'re precious.\"'}"
      ]
     },
     "execution_count": 11,
     "metadata": {},
     "output_type": "execute_result"
    }
   ],
   "source": [
    "positive_agent(\"I had a really great walk this morning.\")\n",
    "positive_agent(\"I feel proud of how I handled things today.\")\n",
    "positive_agent(\"Today has been peaceful and calm.\")"
   ]
  },
  {
   "cell_type": "markdown",
   "id": "b8905cb9",
   "metadata": {},
   "source": [
    "# Testing Sentiment Agent"
   ]
  },
  {
   "cell_type": "code",
   "execution_count": 12,
   "id": "cd350348",
   "metadata": {},
   "outputs": [],
   "source": [
    "from agents.sentiment_agent import sentiment_agent"
   ]
  },
  {
   "cell_type": "code",
   "execution_count": 13,
   "id": "0580e7ed",
   "metadata": {},
   "outputs": [],
   "source": [
    "test_samples = {\n",
    "    \"joy\": \"I am feeling very happy and excited today!\",\n",
    "    \"sadness\": \"I feel really down and disappointed.\",\n",
    "    \"fear\": \"I'm anxious and scared about what might happen.\",\n",
    "    \"anger\": \"I am furious about what happened earlier!\",\n",
    "    \"disgust\": \"That situation really disgusts me.\",\n",
    "    \"neutral\": \"I went to the store and bought some groceries.\"\n",
    "}\n"
   ]
  },
  {
   "cell_type": "code",
   "execution_count": 14,
   "id": "129a9878",
   "metadata": {},
   "outputs": [
    {
     "name": "stdout",
     "output_type": "stream",
     "text": [
      "Input emotion: joy\n",
      "Sentence: I am feeling very happy and excited today!\n",
      "Granite output: {'agent': 'sentiment_agent_granite', 'sentiment': 'positive', 'emotion': 'joy', 'raw_response': '\\n{\\n  \"sentiment\": \"positive\",\\n  \"emotion\": \"joy\"\\n}'}\n",
      "--------------------------------------------------\n",
      "Input emotion: sadness\n",
      "Sentence: I feel really down and disappointed.\n",
      "Granite output: {'agent': 'sentiment_agent_granite', 'sentiment': 'negative', 'emotion': 'sadness', 'raw_response': '\\n{\\n  \"sentiment\": \"negative\",\\n  \"emotion\": \"sadness\"\\n}'}\n",
      "--------------------------------------------------\n",
      "Input emotion: fear\n",
      "Sentence: I'm anxious and scared about what might happen.\n",
      "Granite output: {'agent': 'sentiment_agent_granite', 'sentiment': 'negative', 'emotion': 'fear', 'raw_response': '\\n{\\n  \"sentiment\": \"negative\",\\n  \"emotion\": \"fear\"\\n}'}\n",
      "--------------------------------------------------\n",
      "Input emotion: anger\n",
      "Sentence: I am furious about what happened earlier!\n",
      "Granite output: {'agent': 'sentiment_agent_granite', 'sentiment': 'negative', 'emotion': 'anger', 'raw_response': '\\n{\\n  \"sentiment\": \"negative\",\\n  \"emotion\": \"anger\"\\n}'}\n",
      "--------------------------------------------------\n",
      "Input emotion: disgust\n",
      "Sentence: That situation really disgusts me.\n",
      "Granite output: {'agent': 'sentiment_agent_granite', 'sentiment': 'negative', 'emotion': 'disgust', 'raw_response': '\\n{\\n  \"sentiment\": \"negative\",\\n  \"emotion\": \"disgust\"\\n}'}\n",
      "--------------------------------------------------\n",
      "Input emotion: neutral\n",
      "Sentence: I went to the store and bought some groceries.\n",
      "Granite output: {'agent': 'sentiment_agent_granite', 'sentiment': 'neutral', 'emotion': 'neutral', 'raw_response': '\\n{\\n  \"sentiment\": \"neutral\",\\n  \"emotion\": \"neutral\"\\n}'}\n",
      "--------------------------------------------------\n"
     ]
    }
   ],
   "source": [
    "for emotion, sentence in test_samples.items():\n",
    "    result = sentiment_agent(sentence)\n",
    "    print(f\"Input emotion: {emotion}\")\n",
    "    print(f\"Sentence: {sentence}\")\n",
    "    print(f\"Granite output: {result}\")\n",
    "    print(\"-\" * 50)"
   ]
  },
  {
   "cell_type": "markdown",
   "id": "cd8ee5f0",
   "metadata": {},
   "source": [
    "# Testing Suggest Agent"
   ]
  },
  {
   "cell_type": "code",
   "execution_count": 1,
   "id": "14c2e41c",
   "metadata": {},
   "outputs": [
    {
     "name": "stdout",
     "output_type": "stream",
     "text": [
      "User input: I've been feeling really stressed with work lately.\n",
      "Suggestion: \"It's understandable to feel overwhelmed at work. Try taking short, regular breaks to practice deep breathing or a brief mindfulness exercise. This can help reset your focus and reduce stress.\"\n",
      "--------------------------------------------------\n",
      "User input: I don't feel motivated to do anything.\n",
      "Suggestion: \"Remember, motivation can ebb and flow. Try taking a short break, engaging in a gentle activity like a walk or stretching, and then return to your tasks with a fresh perspective. This might help rekindle your motivation.\"\n",
      "--------------------------------------------------\n",
      "User input: I had a great day and want to keep this positive momentum.\n",
      "Suggestion: Maintain a daily journal to document your achievements and emotions, fostering a deeper connection with your positive experiences. This practice can help reinforce your momentum and serve as a source of inspiration for future days.\n",
      "--------------------------------------------------\n",
      "User input: Sometimes I get overwhelmed with all my thoughts.\n",
      "Suggestion: \"It's wonderful that you're aware of your thoughts. Try setting aside a few moments each day for a gentle mindfulness practice, like deep breathing or body scan meditation. This can help you become more comfortable with your mental landscape.\"\n",
      "--------------------------------------------------\n"
     ]
    }
   ],
   "source": [
    "from agents.suggest_agent import suggest_agent\n",
    "\n",
    "test_inputs = [\n",
    "    \"I've been feeling really stressed with work lately.\",\n",
    "    \"I don't feel motivated to do anything.\",\n",
    "    \"I had a great day and want to keep this positive momentum.\",\n",
    "    \"Sometimes I get overwhelmed with all my thoughts.\"\n",
    "]\n",
    "\n",
    "for text in test_inputs:\n",
    "    result = suggest_agent(text)\n",
    "    print(f\"User input: {text}\")\n",
    "    print(f\"Suggestion: {result['response']}\")\n",
    "    print(\"-\" * 50)\n"
   ]
  },
  {
   "cell_type": "markdown",
   "id": "1aa10d5c",
   "metadata": {},
   "source": [
    "# Testing agent_manager"
   ]
  },
  {
   "cell_type": "code",
   "execution_count": 16,
   "id": "94a305d1",
   "metadata": {},
   "outputs": [],
   "source": [
    "from helpers.agent_manager import process_user_message"
   ]
  },
  {
   "cell_type": "code",
   "execution_count": 17,
   "id": "f32defc9",
   "metadata": {},
   "outputs": [
    {
     "name": "stdout",
     "output_type": "stream",
     "text": [
      "Final Response: \n",
      "\"I'm really sorry to hear that you're feeling this way, but it's great that you're reaching out for support. Remember, it's okay to take things one step at a time.\"\n",
      "Sentiment: negative\n",
      "Emotion: anxiety\n",
      "All Responses: [{'agent': 'affirm', 'response': '\\n\"I\\'m really sorry to hear that you\\'re feeling this way, but it\\'s great that you\\'re reaching out for support. Remember, it\\'s okay to take things one step at a time.\"'}, {'agent': 'suggest', 'response': '\"It\\'s understandable to feel overwhelmed and anxious at times. Consider taking a few moments each day for a mindfulness practice, like deep breathing or a body scan, to help ground yourself in the present moment. Remember, it\\'s okay to ask for support from friends, family, or a mental health professional.\"'}]\n"
     ]
    }
   ],
   "source": [
    "# Example 1: Negative input\n",
    "response1 = process_user_message(\"I'm feeling overwhelmed and anxious lately.\")\n",
    "print(\"Final Response:\", response1[\"final\"])\n",
    "print(\"Sentiment:\", response1[\"sentiment\"])\n",
    "print(\"Emotion:\", response1[\"emotion\"])\n",
    "print(\"All Responses:\", response1[\"all_responses\"])"
   ]
  },
  {
   "cell_type": "code",
   "execution_count": 18,
   "id": "cfb05fd5",
   "metadata": {},
   "outputs": [
    {
     "name": "stdout",
     "output_type": "stream",
     "text": [
      "Final Response: \"That's absolutely wonderful to hear! It sounds like you're carrying the sunshine of your day into this moment. Keep soaking up those positive vibes!\"\n",
      "Sentiment: positive\n",
      "Emotion: joy\n",
      "All Responses: [{'agent': 'positive', 'response': '\"That\\'s absolutely wonderful to hear! It sounds like you\\'re carrying the sunshine of your day into this moment. Keep soaking up those positive vibes!\"'}, {'agent': 'suggest', 'response': '\"It\\'s wonderful to hear that you\\'re basking in the joy of a positive day! Remember, it\\'s okay to take a moment to appreciate and savor these feelings. You\\'re doing an amazing job at maintaining your well-being.\"'}]\n"
     ]
    }
   ],
   "source": [
    "# Example 2: Positive input\n",
    "response2 = process_user_message(\"I had a great day and I'm feeling really happy!\")\n",
    "print(\"Final Response:\", response2[\"final\"])\n",
    "print(\"Sentiment:\", response2[\"sentiment\"])\n",
    "print(\"Emotion:\", response2[\"emotion\"])\n",
    "print(\"All Responses:\", response2[\"all_responses\"])"
   ]
  },
  {
   "cell_type": "code",
   "execution_count": 19,
   "id": "9a533231",
   "metadata": {},
   "outputs": [
    {
     "name": "stdout",
     "output_type": "stream",
     "text": [
      "Final Response:  \"Ah, the beauty of routine. It's often in the everyday moments that we find the most profound.\"\n",
      "Sentiment: neutral\n",
      "Emotion: neutral\n",
      "All Responses: [{'agent': 'neutral', 'response': ' \"Ah, the beauty of routine. It\\'s often in the everyday moments that we find the most profound.\"'}, {'agent': 'suggest', 'response': '\"Remember, even the most ordinary days can hold unique moments of joy and peace. Try to find a small pleasure today, like a favorite song or a comforting book, and allow yourself to fully immerse in it. This simple act can transform your day into something truly special.\"'}]\n"
     ]
    }
   ],
   "source": [
    "# Example 3: Neutral input\n",
    "response3 = process_user_message(\"Just another regular day, nothing special.\")\n",
    "print(\"Final Response:\", response3[\"final\"])\n",
    "print(\"Sentiment:\", response3[\"sentiment\"])\n",
    "print(\"Emotion:\", response3[\"emotion\"])\n",
    "print(\"All Responses:\", response3[\"all_responses\"])\n"
   ]
  },
  {
   "cell_type": "code",
   "execution_count": 20,
   "id": "0b77bc24",
   "metadata": {},
   "outputs": [
    {
     "name": "stdout",
     "output_type": "stream",
     "text": [
      "\n",
      "=== Test 1 ===\n",
      "Input: I'm feeling really happy and grateful today!\n",
      "Detected Sentiment: positive\n",
      "Detected Emotion:  joy\n",
      "Agent Responses:\n",
      "  [positive] \"That's absolutely wonderful to hear! Your positive emotions are a testament to your resilience. Keep nurturing that happiness and gratitude.\"\n",
      "  [suggest] \"It's wonderful to hear that you're experiencing such joy and gratitude. Remember to cherish these moments, as they contribute to your overall well-being. If you'd like to share more about what's bringing you this happiness, it could be a wonderful opportunity to explore and deepen your feelings of contentment.\"\n",
      "→ Final: \"That's absolutely wonderful to hear! Your positive emotions are a testament to your resilience. Keep nurturing that happiness and gratitude.\"\n",
      "\n",
      "=== Test 2 ===\n",
      "Input: I'm just okay. Nothing much happening.\n",
      "Detected Sentiment: neutral\n",
      "Detected Emotion:  neutral\n",
      "Agent Responses:\n",
      "  [neutral] \n",
      "\"Thank you for sharing, it's wonderful to hear that you're managing well. Sometimes, sharing more can uncover deeper feelings. Would you like to delve a bit deeper, if you feel comfortable?\"\n",
      "  [suggest] \"It's wonderful that you're taking the time to acknowledge your current state. Remember, it's okay to have moments of 'just okay' and there's no rush to be 'great' or 'fantastic'. Each day brings new opportunities for growth and self-discovery. Consider setting a small, achievable goal for yourself today, like engaging in a brief mindfulness exercise or writing in a journal for a few minutes. This can help you appreciate the present moment and foster a sense of progress.\"\n",
      "→ Final: \n",
      "\"Thank you for sharing, it's wonderful to hear that you're managing well. Sometimes, sharing more can uncover deeper feelings. Would you like to delve a bit deeper, if you feel comfortable?\"\n",
      "\n",
      "=== Test 3 ===\n",
      "Input: I'm terrified and I can't breathe.\n",
      "Detected Sentiment: negative\n",
      "Detected Emotion:  fear\n",
      "Agent Responses:\n",
      "  [escalate] \n",
      "\"I'm really sorry you're feeling this way right now. It sounds like you're in a lot of distress. Remember, it's okay to reach out to someone you trust or a mental health professional. They can provide the support you need to help you breathe easier. You're not alone in this.\"\n",
      "  [suggest] \"Remember, it's okay to feel overwhelmed. Take a few deep, slow breaths, inhaling for a count of four, holding for a count of four, and exhaling for a count of four. This can help calm your body's response to stress. You're not alone in this, and it's a common experience to feel this way when anxiety is at its peak.\"\n",
      "→ Final: \n",
      "\"I'm really sorry you're feeling this way right now. It sounds like you're in a lot of distress. Remember, it's okay to reach out to someone you trust or a mental health professional. They can provide the support you need to help you breathe easier. You're not alone in this.\"\n",
      "\n",
      "=== Test 4 ===\n",
      "Input: I'm not okay, but it's manageable I guess.\n",
      "Detected Sentiment: negative\n",
      "Detected Emotion:  sadness\n",
      "Agent Responses:\n",
      "  [escalate] \n",
      "\"I'm really sorry that you're feeling this way, but I'm here to help. It's important to remember that it's okay to seek support. You might find it helpful to talk to someone you trust or a mental health professional. They can provide the tools and guidance to navigate through these challenging times.\"\n",
      "  [suggest] \"It's wonderful that you're acknowledging your feelings and finding a way to navigate through them. Remember, it's okay to take small steps towards self-care each day. You're stronger than you think, and with time, you'll feel more at ease.\"\n",
      "→ Final: \n",
      "\"I'm really sorry that you're feeling this way, but I'm here to help. It's important to remember that it's okay to seek support. You might find it helpful to talk to someone you trust or a mental health professional. They can provide the tools and guidance to navigate through these challenging times.\"\n"
     ]
    }
   ],
   "source": [
    "from helpers.agent_manager import process_user_message\n",
    "\n",
    "# Define test cases to trigger each path\n",
    "test_cases = [\n",
    "    {\n",
    "        \"input\": \"I'm feeling really happy and grateful today!\",\n",
    "        \"expected\": \"positive\"\n",
    "    },\n",
    "    {\n",
    "        \"input\": \"I'm just okay. Nothing much happening.\",\n",
    "        \"expected\": \"neutral\"\n",
    "    },\n",
    "    {\n",
    "        \"input\": \"I'm terrified and I can't breathe.\",\n",
    "        \"expected\": \"escalate\"\n",
    "    },\n",
    "    {\n",
    "        \"input\": \"I'm not okay, but it's manageable I guess.\",\n",
    "        \"expected\": \"affirm\"\n",
    "    }\n",
    "]\n",
    "\n",
    "# Run tests\n",
    "for idx, case in enumerate(test_cases, 1):\n",
    "    result = process_user_message(case[\"input\"])\n",
    "    print(f\"\\n=== Test {idx} ===\")\n",
    "    print(f\"Input: {case['input']}\")\n",
    "    print(f\"Detected Sentiment: {result['sentiment']}\")\n",
    "    print(f\"Detected Emotion:  {result['emotion']}\")\n",
    "    print(\"Agent Responses:\")\n",
    "    for msg in result[\"all_responses\"]:\n",
    "        print(f\"  [{msg['agent']}] {msg['response']}\")\n",
    "    print(f\"→ Final: {result['final']}\")"
   ]
  }
 ],
 "metadata": {
  "kernelspec": {
   "display_name": "careconnect",
   "language": "python",
   "name": "python3"
  },
  "language_info": {
   "codemirror_mode": {
    "name": "ipython",
    "version": 3
   },
   "file_extension": ".py",
   "mimetype": "text/x-python",
   "name": "python",
   "nbconvert_exporter": "python",
   "pygments_lexer": "ipython3",
   "version": "3.12.11"
  }
 },
 "nbformat": 4,
 "nbformat_minor": 5
}
