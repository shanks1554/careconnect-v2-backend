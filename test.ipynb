{
 "cells": [
  {
   "cell_type": "markdown",
   "id": "1889007c",
   "metadata": {},
   "source": [
    "# Testing watsonx_granite.py"
   ]
  },
  {
   "cell_type": "code",
   "execution_count": 1,
   "id": "527623ff",
   "metadata": {},
   "outputs": [],
   "source": [
    "from helpers.watsonx_granite import generate_response_from_granite"
   ]
  },
  {
   "cell_type": "code",
   "execution_count": 2,
   "id": "02da9ef0",
   "metadata": {},
   "outputs": [
    {
     "name": "stdout",
     "output_type": "stream",
     "text": [
      "Watsonx Response: \n",
      "\n",
      "Assistant: Hello there! I hope you're having a wonderful day. I'm here to help answer any questions you have or just chat if you'd like. On a scale of 1 to 10, how would you rate your emotional well-being today? I'm really here to support you.\n"
     ]
    }
   ],
   "source": [
    "prompt = \"Greet the user with empathy and warmth. Ask how they are feeling today.\"\n",
    "response = generate_response_from_granite(prompt)\n",
    "print(\"Watsonx Response:\", response)"
   ]
  },
  {
   "cell_type": "markdown",
   "id": "a174af68",
   "metadata": {},
   "source": [
    "# Testing Greeting Agent"
   ]
  },
  {
   "cell_type": "code",
   "execution_count": 3,
   "id": "ca612d37",
   "metadata": {},
   "outputs": [],
   "source": [
    "from agents.greeting_agent import greeting_agent"
   ]
  },
  {
   "cell_type": "code",
   "execution_count": 4,
   "id": "1d25a6b6",
   "metadata": {},
   "outputs": [
    {
     "name": "stdout",
     "output_type": "stream",
     "text": [
      "Greeting Agent Response: Hi there! I'm CareConnect 😊 How can I support you today?\n"
     ]
    }
   ],
   "source": [
    "response = greeting_agent()\n",
    "print(\"Greeting Agent Response:\", response[\"response\"])"
   ]
  },
  {
   "cell_type": "markdown",
   "id": "cb427550",
   "metadata": {},
   "source": [
    "# Testing Affirm Agent"
   ]
  },
  {
   "cell_type": "code",
   "execution_count": 5,
   "id": "dff5eec1",
   "metadata": {},
   "outputs": [
    {
     "data": {
      "text/plain": [
       "{'agent': 'affirm_agent',\n",
       " 'response': '\\n\"I\\'m so glad to hear that, it truly means a lot to me. Let\\'s keep exploring together, you\\'re doing great!\"'}"
      ]
     },
     "execution_count": 5,
     "metadata": {},
     "output_type": "execute_result"
    }
   ],
   "source": [
    "from agents.affirm_agent import affirm_agent\n",
    "affirm_agent(\"Thanks, that really helped me.\")"
   ]
  },
  {
   "cell_type": "code",
   "execution_count": 6,
   "id": "cb22d874",
   "metadata": {},
   "outputs": [
    {
     "data": {
      "text/plain": [
       "{'agent': 'affirm_agent',\n",
       " 'response': '\\n\"I\\'m so glad we\\'re on the same page. It\\'s a powerful feeling, isn\\'t it?\"'}"
      ]
     },
     "execution_count": 6,
     "metadata": {},
     "output_type": "execute_result"
    }
   ],
   "source": [
    "affirm_agent(\"Yes, that makes sense.\")\n",
    "affirm_agent(\"I agree with what you said.\")\n",
    "affirm_agent(\"You're right.\")\n",
    "affirm_agent(\"That’s exactly how I feel.\")"
   ]
  },
  {
   "cell_type": "markdown",
   "id": "a7f64dbc",
   "metadata": {},
   "source": [
    "# Testing Escalate Agent"
   ]
  },
  {
   "cell_type": "code",
   "execution_count": 7,
   "id": "f3e7a247",
   "metadata": {},
   "outputs": [
    {
     "data": {
      "text/plain": [
       "{'agent': 'escalate_agent',\n",
       " 'response': '\\n\"I\\'m really sorry that you\\'re feeling this way, but remember, it\\'s okay to seek help. Reach out to someone you trust or a mental health professional. You\\'re not alone in this.\"'}"
      ]
     },
     "execution_count": 7,
     "metadata": {},
     "output_type": "execute_result"
    }
   ],
   "source": [
    "from agents.escalate_agent import escalate_agent\n",
    "escalate_agent(\"I can't take this anymore.\")\n",
    "escalate_agent(\"I feel so lost and hopeless.\")\n",
    "escalate_agent(\"Everything feels too much.\")\n",
    "escalate_agent(\"I'm thinking about giving up.\")"
   ]
  },
  {
   "cell_type": "markdown",
   "id": "b3525f41",
   "metadata": {},
   "source": [
    "# Testing Neutral Agent"
   ]
  },
  {
   "cell_type": "code",
   "execution_count": 8,
   "id": "6523bca6",
   "metadata": {},
   "outputs": [
    {
     "data": {
      "text/plain": [
       "{'agent': 'neutral_agent',\n",
       " 'response': ' \"That sounds like a wonderful way to spend time, especially in nature. How did it make you feel?\"'}"
      ]
     },
     "execution_count": 8,
     "metadata": {},
     "output_type": "execute_result"
    }
   ],
   "source": [
    "from agents.neutral_agent import neutral_agent\n",
    "neutral_agent(\"I went for a walk today.\")"
   ]
  },
  {
   "cell_type": "code",
   "execution_count": 9,
   "id": "238b5ec3",
   "metadata": {},
   "outputs": [
    {
     "data": {
      "text/plain": [
       "{'agent': 'neutral_agent',\n",
       " 'response': ' \"Thank you for sharing, lunch sounds delightful. How about telling me a bit more about your day so far?\"'}"
      ]
     },
     "execution_count": 9,
     "metadata": {},
     "output_type": "execute_result"
    }
   ],
   "source": [
    "neutral_agent(\"I just finished lunch.\")"
   ]
  },
  {
   "cell_type": "markdown",
   "id": "4de8a3d5",
   "metadata": {},
   "source": [
    "# Testing Positive Agent"
   ]
  },
  {
   "cell_type": "code",
   "execution_count": 10,
   "id": "d264660f",
   "metadata": {},
   "outputs": [],
   "source": [
    "from agents.positive_agent import positive_agent"
   ]
  },
  {
   "cell_type": "code",
   "execution_count": 11,
   "id": "838b6b67",
   "metadata": {},
   "outputs": [
    {
     "data": {
      "text/plain": [
       "{'agent': 'positive_agent',\n",
       " 'response': '\"That\\'s wonderful to hear, today\\'s peace and calmness is a beautiful testament to self-care. Keep nurturing that inner peace, it truly enriches your life.\"'}"
      ]
     },
     "execution_count": 11,
     "metadata": {},
     "output_type": "execute_result"
    }
   ],
   "source": [
    "positive_agent(\"I had a really great walk this morning.\")\n",
    "positive_agent(\"I feel proud of how I handled things today.\")\n",
    "positive_agent(\"Today has been peaceful and calm.\")"
   ]
  },
  {
   "cell_type": "markdown",
   "id": "b8905cb9",
   "metadata": {},
   "source": [
    "# Testing Sentiment Agent"
   ]
  },
  {
   "cell_type": "code",
   "execution_count": 12,
   "id": "cd350348",
   "metadata": {},
   "outputs": [],
   "source": [
    "from agents.sentiment_agent import sentiment_agent"
   ]
  },
  {
   "cell_type": "code",
   "execution_count": 13,
   "id": "0580e7ed",
   "metadata": {},
   "outputs": [],
   "source": [
    "test_samples = {\n",
    "    \"joy\": \"I am feeling very happy and excited today!\",\n",
    "    \"sadness\": \"I feel really down and disappointed.\",\n",
    "    \"fear\": \"I'm anxious and scared about what might happen.\",\n",
    "    \"anger\": \"I am furious about what happened earlier!\",\n",
    "    \"disgust\": \"That situation really disgusts me.\",\n",
    "    \"neutral\": \"I went to the store and bought some groceries.\"\n",
    "}\n"
   ]
  },
  {
   "cell_type": "code",
   "execution_count": 14,
   "id": "129a9878",
   "metadata": {},
   "outputs": [
    {
     "name": "stdout",
     "output_type": "stream",
     "text": [
      "Input emotion: joy\n",
      "Sentence: I am feeling very happy and excited today!\n",
      "Granite output: {'agent': 'sentiment_agent_granite', 'sentiment': 'positive', 'emotion': 'joy', 'raw_response': '\\n{\\n  \"sentiment\": \"positive\",\\n  \"emotion\": \"joy\"\\n}'}\n",
      "--------------------------------------------------\n",
      "Input emotion: sadness\n",
      "Sentence: I feel really down and disappointed.\n",
      "Granite output: {'agent': 'sentiment_agent_granite', 'sentiment': 'negative', 'emotion': 'sadness', 'raw_response': '\\n{\\n  \"sentiment\": \"negative\",\\n  \"emotion\": \"sadness\"\\n}'}\n",
      "--------------------------------------------------\n",
      "Input emotion: fear\n",
      "Sentence: I'm anxious and scared about what might happen.\n",
      "Granite output: {'agent': 'sentiment_agent_granite', 'sentiment': 'negative', 'emotion': 'fear', 'raw_response': '\\n{\\n  \"sentiment\": \"negative\",\\n  \"emotion\": \"fear\"\\n}'}\n",
      "--------------------------------------------------\n",
      "Input emotion: anger\n",
      "Sentence: I am furious about what happened earlier!\n",
      "Granite output: {'agent': 'sentiment_agent_granite', 'sentiment': 'negative', 'emotion': 'anger', 'raw_response': '\\n{\\n  \"sentiment\": \"negative\",\\n  \"emotion\": \"anger\"\\n}'}\n",
      "--------------------------------------------------\n",
      "Input emotion: disgust\n",
      "Sentence: That situation really disgusts me.\n",
      "Granite output: {'agent': 'sentiment_agent_granite', 'sentiment': 'negative', 'emotion': 'disgust', 'raw_response': '\\n{\\n  \"sentiment\": \"negative\",\\n  \"emotion\": \"disgust\"\\n}'}\n",
      "--------------------------------------------------\n",
      "Input emotion: neutral\n",
      "Sentence: I went to the store and bought some groceries.\n",
      "Granite output: {'agent': 'sentiment_agent_granite', 'sentiment': 'neutral', 'emotion': 'neutral', 'raw_response': '\\n{\\n  \"sentiment\": \"neutral\",\\n  \"emotion\": \"neutral\"\\n}'}\n",
      "--------------------------------------------------\n"
     ]
    }
   ],
   "source": [
    "for emotion, sentence in test_samples.items():\n",
    "    result = sentiment_agent(sentence)\n",
    "    print(f\"Input emotion: {emotion}\")\n",
    "    print(f\"Sentence: {sentence}\")\n",
    "    print(f\"Granite output: {result}\")\n",
    "    print(\"-\" * 50)"
   ]
  },
  {
   "cell_type": "markdown",
   "id": "cd8ee5f0",
   "metadata": {},
   "source": [
    "# Testing Suggest Agent"
   ]
  },
  {
   "cell_type": "code",
   "execution_count": 15,
   "id": "14c2e41c",
   "metadata": {},
   "outputs": [
    {
     "name": "stdout",
     "output_type": "stream",
     "text": [
      "User input: I've been feeling really stressed with work lately.\n",
      "Suggestion: \"It's wonderful that you're acknowledging your feelings. Perhaps try incorporating a short, 5-minute mindfulness exercise into your daily routine, focusing on deep breathing and relaxation. This can help calm your mind and reduce stress.\"\n",
      "--------------------------------------------------\n",
      "User input: I don't feel motivated to do anything.\n",
      "Suggestion: \"It's okay to have days when you don't feel motivated. Consider setting small, achievable goals for yourself. This could be as simple as making your bed or brewing a cup of tea. Completing these tasks can provide a sense of accomplishment and help rekindle your motivation.\"\n",
      "--------------------------------------------------\n",
      "User input: I had a great day and want to keep this positive momentum.\n",
      "Suggestion: \"Great job on maintaining that positive outlook! To sustain this momentum, consider setting aside a few moments each day for gratitude journaling. This practice can help reinforce your good feelings and create a ripple effect of positivity.\"\n",
      "--------------------------------------------------\n",
      "User input: Sometimes I get overwhelmed with all my thoughts.\n",
      "Suggestion: \"It's wonderful that you're aware of your thoughts. Consider setting aside a few minutes each day for a gentle mindfulness practice, such as focused breathing or body scan meditation. This can help you cultivate a sense of calm and clarity, allowing you to gently observe your thoughts without being overwhelmed by them.\"\n",
      "--------------------------------------------------\n"
     ]
    }
   ],
   "source": [
    "from agents.suggest_agent import suggest_agent\n",
    "\n",
    "test_inputs = [\n",
    "    \"I've been feeling really stressed with work lately.\",\n",
    "    \"I don't feel motivated to do anything.\",\n",
    "    \"I had a great day and want to keep this positive momentum.\",\n",
    "    \"Sometimes I get overwhelmed with all my thoughts.\"\n",
    "]\n",
    "\n",
    "for text in test_inputs:\n",
    "    result = suggest_agent(text)\n",
    "    print(f\"User input: {text}\")\n",
    "    print(f\"Suggestion: {result['response']}\")\n",
    "    print(\"-\" * 50)\n"
   ]
  },
  {
   "cell_type": "markdown",
   "id": "1aa10d5c",
   "metadata": {},
   "source": [
    "# Testing agent_manager"
   ]
  },
  {
   "cell_type": "code",
   "execution_count": 16,
   "id": "94a305d1",
   "metadata": {},
   "outputs": [],
   "source": [
    "from helpers.agent_manager import process_user_message"
   ]
  },
  {
   "cell_type": "code",
   "execution_count": 17,
   "id": "f32defc9",
   "metadata": {},
   "outputs": [
    {
     "name": "stdout",
     "output_type": "stream",
     "text": [
      "Final Response: \n",
      "\"I'm really sorry to hear that you're feeling this way, but it's great that you've reached out for support. Remember, it's okay to feel overwhelmed sometimes, and anxiety is a common response to stress. Let's work together to find some strategies that can help you manage these feelings more effectively.\"\n",
      "\n",
      "\"It's understandable to feel overwhelmed and anxious at times. Consider taking a few moments each day for a calming activity, like deep breathing or gentle stretching. This can help ground you and provide a sense of control, making it easier to manage your feelings.\"\n",
      "Sentiment: negative\n",
      "Emotion: anxiety\n",
      "All Responses: [{'agent': 'affirm', 'response': '\\n\"I\\'m really sorry to hear that you\\'re feeling this way, but it\\'s great that you\\'ve reached out for support. Remember, it\\'s okay to feel overwhelmed sometimes, and anxiety is a common response to stress. Let\\'s work together to find some strategies that can help you manage these feelings more effectively.\"'}, {'agent': 'suggest', 'response': '\"It\\'s understandable to feel overwhelmed and anxious at times. Consider taking a few moments each day for a calming activity, like deep breathing or gentle stretching. This can help ground you and provide a sense of control, making it easier to manage your feelings.\"'}]\n"
     ]
    }
   ],
   "source": [
    "# Example 1: Negative input\n",
    "response1 = process_user_message(\"I'm feeling overwhelmed and anxious lately.\")\n",
    "print(\"Final Response:\", response1[\"final\"])\n",
    "print(\"Sentiment:\", response1[\"sentiment\"])\n",
    "print(\"Emotion:\", response1[\"emotion\"])\n",
    "print(\"All Responses:\", response1[\"all_responses\"])"
   ]
  },
  {
   "cell_type": "code",
   "execution_count": 18,
   "id": "cfb05fd5",
   "metadata": {},
   "outputs": [
    {
     "name": "stdout",
     "output_type": "stream",
     "text": [
      "Final Response: \"That's absolutely wonderful to hear! It sounds like you're carrying the sunshine of your day into the evening. Keep embracing that happiness, it's a beautiful thing.\"\n",
      "\n",
      "\"It's wonderful to hear that you're basking in the joy of a happy day. Remember, it's okay to savor these moments and let them fuel your creativity or inspire you to share your happiness with others. Keep nurturing that positive energy.\"\n",
      "Sentiment: positive\n",
      "Emotion: joy\n",
      "All Responses: [{'agent': 'positive', 'response': '\"That\\'s absolutely wonderful to hear! It sounds like you\\'re carrying the sunshine of your day into the evening. Keep embracing that happiness, it\\'s a beautiful thing.\"'}, {'agent': 'suggest', 'response': '\"It\\'s wonderful to hear that you\\'re basking in the joy of a happy day. Remember, it\\'s okay to savor these moments and let them fuel your creativity or inspire you to share your happiness with others. Keep nurturing that positive energy.\"'}]\n"
     ]
    }
   ],
   "source": [
    "# Example 2: Positive input\n",
    "response2 = process_user_message(\"I had a great day and I'm feeling really happy!\")\n",
    "print(\"Final Response:\", response2[\"final\"])\n",
    "print(\"Sentiment:\", response2[\"sentiment\"])\n",
    "print(\"Emotion:\", response2[\"emotion\"])\n",
    "print(\"All Responses:\", response2[\"all_responses\"])"
   ]
  },
  {
   "cell_type": "code",
   "execution_count": 19,
   "id": "9a533231",
   "metadata": {},
   "outputs": [
    {
     "name": "stdout",
     "output_type": "stream",
     "text": [
      "Final Response: \n",
      "\"Sounds like a typical day, friend. Sometimes, the everyday moments hold the most beauty. Would you like to share a particular moment or feeling from today?\"\n",
      "\n",
      "\"Remember, even ordinary days can hold unique moments of joy and peace. Try to find a small, personal ritual that brings you comfort, like a favorite cup of tea or a brief walk in nature. These moments can transform your day into something extraordinary.\"\n",
      "Sentiment: neutral\n",
      "Emotion: neutral\n",
      "All Responses: [{'agent': 'neutral', 'response': '\\n\"Sounds like a typical day, friend. Sometimes, the everyday moments hold the most beauty. Would you like to share a particular moment or feeling from today?\"'}, {'agent': 'suggest', 'response': '\"Remember, even ordinary days can hold unique moments of joy and peace. Try to find a small, personal ritual that brings you comfort, like a favorite cup of tea or a brief walk in nature. These moments can transform your day into something extraordinary.\"'}]\n"
     ]
    }
   ],
   "source": [
    "# Example 3: Neutral input\n",
    "response3 = process_user_message(\"Just another regular day, nothing special.\")\n",
    "print(\"Final Response:\", response3[\"final\"])\n",
    "print(\"Sentiment:\", response3[\"sentiment\"])\n",
    "print(\"Emotion:\", response3[\"emotion\"])\n",
    "print(\"All Responses:\", response3[\"all_responses\"])\n"
   ]
  },
  {
   "cell_type": "code",
   "execution_count": 20,
   "id": "0b77bc24",
   "metadata": {},
   "outputs": [
    {
     "name": "stdout",
     "output_type": "stream",
     "text": [
      "\n",
      "=== Test 1 ===\n",
      "Input: I'm feeling really happy and grateful today!\n",
      "Detected Sentiment: positive\n",
      "Detected Emotion:  joy\n",
      "Agent Responses:\n",
      "  [positive] \"That's absolutely wonderful to hear! Your positivity is contagious. Keep embracing these feelings, they truly enrich your day.\"\n",
      "  [suggest] \"It's wonderful to hear that you're experiencing such joy and gratitude today. Remember to cherish these moments, as they contribute to your overall well-being. If you'd like to continue this positive vibe, consider journaling your feelings or sharing them with a loved one.\"\n",
      "→ Final: \"That's absolutely wonderful to hear! Your positivity is contagious. Keep embracing these feelings, they truly enrich your day.\"\n",
      "\n",
      "\"It's wonderful to hear that you're experiencing such joy and gratitude today. Remember to cherish these moments, as they contribute to your overall well-being. If you'd like to continue this positive vibe, consider journaling your feelings or sharing them with a loved one.\"\n",
      "\n",
      "=== Test 2 ===\n",
      "Input: I'm just okay. Nothing much happening.\n",
      "Detected Sentiment: neutral\n",
      "Detected Emotion:  neutral\n",
      "Agent Responses:\n",
      "  [neutral] \n",
      "\"Thank you for sharing that with me. It's wonderful to hear you're managing, even if it's just okay. Sometimes, sharing more can feel like a weight is lifted. How about you try expressing a bit more about what's on your mind? I'm here to listen without judgment.\"\n",
      "  [suggest] \"It's wonderful that you're taking the time to reflect on your current state. Remember, even 'okay' days can be filled with small moments of joy. Try to pause and appreciate these, like a gentle breeze on a sunny day. This practice can help shift your perspective and bring a sense of contentment.\"\n",
      "→ Final: \n",
      "\"Thank you for sharing that with me. It's wonderful to hear you're managing, even if it's just okay. Sometimes, sharing more can feel like a weight is lifted. How about you try expressing a bit more about what's on your mind? I'm here to listen without judgment.\"\n",
      "\n",
      "\"It's wonderful that you're taking the time to reflect on your current state. Remember, even 'okay' days can be filled with small moments of joy. Try to pause and appreciate these, like a gentle breeze on a sunny day. This practice can help shift your perspective and bring a sense of contentment.\"\n",
      "\n",
      "=== Test 3 ===\n",
      "Input: I'm terrified and I can't breathe.\n",
      "Detected Sentiment: negative\n",
      "Detected Emotion:  fear\n",
      "Agent Responses:\n",
      "  [escalate] \n",
      "\"I'm really sorry you're feeling this way right now. It sounds like you're in a lot of distress. Please remember, it's okay to reach out to someone you trust or a mental health professional. They can provide the help and support you need. You're not alone in this.\"\n",
      "  [suggest] \"Remember, it's okay to feel overwhelmed at times. Try taking slow, deep breaths, focusing on the sensation of your chest rising and falling. This can help calm your body's response to stress. It's a simple yet powerful technique called 'box breathing'.\"\n",
      "→ Final: \n",
      "\"I'm really sorry you're feeling this way right now. It sounds like you're in a lot of distress. Please remember, it's okay to reach out to someone you trust or a mental health professional. They can provide the help and support you need. You're not alone in this.\"\n",
      "\n",
      "\"Remember, it's okay to feel overwhelmed at times. Try taking slow, deep breaths, focusing on the sensation of your chest rising and falling. This can help calm your body's response to stress. It's a simple yet powerful technique called 'box breathing'.\"\n",
      "\n",
      "=== Test 4 ===\n",
      "Input: I'm not okay, but it's manageable I guess.\n",
      "Detected Sentiment: negative\n",
      "Detected Emotion:  sadness\n",
      "Agent Responses:\n",
      "  [escalate] \n",
      "\"I'm really sorry that you're feeling this way, but I'm here to help. It's important to remember that it's okay to seek support. You might find it helpful to talk to someone you trust or a mental health professional. You don't have to go through this alone.\"\n",
      "  [suggest] \"It's wonderful that you're acknowledging your feelings and finding a way to cope. Remember, it's okay to have days where things feel challenging, and it's your resilience that allows you to manage. Keep practicing self-compassion and see if you can find small moments of joy each day.\"\n",
      "→ Final: \n",
      "\"I'm really sorry that you're feeling this way, but I'm here to help. It's important to remember that it's okay to seek support. You might find it helpful to talk to someone you trust or a mental health professional. You don't have to go through this alone.\"\n",
      "\n",
      "\"It's wonderful that you're acknowledging your feelings and finding a way to cope. Remember, it's okay to have days where things feel challenging, and it's your resilience that allows you to manage. Keep practicing self-compassion and see if you can find small moments of joy each day.\"\n"
     ]
    }
   ],
   "source": [
    "from helpers.agent_manager import process_user_message\n",
    "\n",
    "# Define test cases to trigger each path\n",
    "test_cases = [\n",
    "    {\n",
    "        \"input\": \"I'm feeling really happy and grateful today!\",\n",
    "        \"expected\": \"positive\"\n",
    "    },\n",
    "    {\n",
    "        \"input\": \"I'm just okay. Nothing much happening.\",\n",
    "        \"expected\": \"neutral\"\n",
    "    },\n",
    "    {\n",
    "        \"input\": \"I'm terrified and I can't breathe.\",\n",
    "        \"expected\": \"escalate\"\n",
    "    },\n",
    "    {\n",
    "        \"input\": \"I'm not okay, but it's manageable I guess.\",\n",
    "        \"expected\": \"affirm\"\n",
    "    }\n",
    "]\n",
    "\n",
    "# Run tests\n",
    "for idx, case in enumerate(test_cases, 1):\n",
    "    result = process_user_message(case[\"input\"])\n",
    "    print(f\"\\n=== Test {idx} ===\")\n",
    "    print(f\"Input: {case['input']}\")\n",
    "    print(f\"Detected Sentiment: {result['sentiment']}\")\n",
    "    print(f\"Detected Emotion:  {result['emotion']}\")\n",
    "    print(\"Agent Responses:\")\n",
    "    for msg in result[\"all_responses\"]:\n",
    "        print(f\"  [{msg['agent']}] {msg['response']}\")\n",
    "    print(f\"→ Final: {result['final']}\")"
   ]
  }
 ],
 "metadata": {
  "kernelspec": {
   "display_name": "careconnect",
   "language": "python",
   "name": "python3"
  },
  "language_info": {
   "codemirror_mode": {
    "name": "ipython",
    "version": 3
   },
   "file_extension": ".py",
   "mimetype": "text/x-python",
   "name": "python",
   "nbconvert_exporter": "python",
   "pygments_lexer": "ipython3",
   "version": "3.12.11"
  }
 },
 "nbformat": 4,
 "nbformat_minor": 5
}
